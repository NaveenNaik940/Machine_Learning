{
 "cells": [
  {
   "cell_type": "markdown",
   "metadata": {},
   "source": [
    "\"\"\"\n",
    "\n",
    "@Author: Naveen Madev Naik</br>\n",
    "@Date: 2024-10-08</br>\n",
    "@Last Modified by: Naveen Madev Naik</br>\n",
    "@Last Modified time: 2024-10-08</br>\n",
    "@Title: Identifying the differnent machine learning types and applying different data preprocessing steps like handling missing data, categorical data, \n",
    "        feature scaling etc.</br>\n",
    "\n",
    "\"\"\""
   ]
  },
  {
   "cell_type": "markdown",
   "metadata": {},
   "source": [
    "## ML Types"
   ]
  },
  {
   "cell_type": "markdown",
   "metadata": {},
   "source": [
    "Classify the problems as supervised, unsupervised, reinforcement or semi supervised</br>\n",
    "a. Spam filtering: Is an email spam or not</br>\n",
    "b. Given a list of customers and information about them, discover groups of similar users. This knowledge can then be used for targeted marketing</br>\n",
    "c. Robotics: A robot is in a maze, and it needs to find a way out.</br>\n",
    "d. Training an AI for a complex game such as Civilization or Dota</br>\n",
    "e. Anomaly detection: Given measurements from sensors in a manufacturing facility, identify anomalies, i.e. that something is wrong</br>\n",
    "f. Discover patterns in data such as whenever it rains, people tend to stay indoors. When it is hot, people buy more ice-cream.</br>\n",
    "g. Given information about a house, predict its price</br>\n",
    "h. Netflix: Given a user and a movie, predict the rating the user is going to give to the movie</br>\n",
    "i. Given an image, output which objects are present in the image</br>"
   ]
  },
  {
   "cell_type": "markdown",
   "metadata": {},
   "source": [
    "### a.Spam filtering: Is an email spam or not"
   ]
  },
  {
   "cell_type": "markdown",
   "metadata": {},
   "source": [
    "Supervised learning: The model is trained on labeled emails (spam or not spam) and makes predictions for new emails."
   ]
  },
  {
   "cell_type": "markdown",
   "metadata": {},
   "source": [
    "### b. Given a list of customers and information about them, discover groups of similar"
   ]
  },
  {
   "cell_type": "markdown",
   "metadata": {},
   "source": [
    "Unsupervised learning: This is a clustering problem where the goal is to find groups (clusters) in the data without predefined labels."
   ]
  },
  {
   "cell_type": "markdown",
   "metadata": {},
   "source": [
    "### c. Robotics: A robot is in a maze, and it needs to find a way out."
   ]
  },
  {
   "cell_type": "markdown",
   "metadata": {},
   "source": [
    "Reinforcement learning: The robot learns from interactions with its environment, receiving rewards or penalties for actions as it navigates the maze."
   ]
  },
  {
   "cell_type": "markdown",
   "metadata": {},
   "source": [
    "### d. Training an AI for a complex game such as Civilization or Dota"
   ]
  },
  {
   "cell_type": "markdown",
   "metadata": {},
   "source": [
    "Reinforcement learning: The AI learns through trial and error, improving its strategies based on rewards or penalties from the game environment."
   ]
  },
  {
   "cell_type": "markdown",
   "metadata": {},
   "source": [
    "### e. Anomaly detection: Given measurements from sensors in a manufacturing facility, identify anomalies, i.e. that something is wrong"
   ]
  },
  {
   "cell_type": "markdown",
   "metadata": {},
   "source": [
    "Unsupervised learning: Anomalies are identified without prior labels, based on unusual patterns or deviations from normal behavior."
   ]
  },
  {
   "cell_type": "markdown",
   "metadata": {},
   "source": [
    "### f. Discover patterns in data such as whenever it rains, people tend to stay indoors. When it is hot, people buy more ice-cream."
   ]
  },
  {
   "cell_type": "markdown",
   "metadata": {},
   "source": [
    "Unsupervised learning: This involves finding patterns or correlations in the data without labeled outcomes."
   ]
  },
  {
   "cell_type": "markdown",
   "metadata": {},
   "source": [
    "### g. Given information about a house, predict its price"
   ]
  },
  {
   "cell_type": "markdown",
   "metadata": {},
   "source": [
    "Supervised learning: The model is trained on labeled data (house features and their prices) to predict the price of new houses."
   ]
  },
  {
   "cell_type": "markdown",
   "metadata": {},
   "source": [
    "### h. Netflix: Given a user and a movie, predict the rating the user is going to give to the movie"
   ]
  },
  {
   "cell_type": "markdown",
   "metadata": {},
   "source": [
    "Supervised learning: The model predicts ratings based on historical data of users, movies, and their previous ratings."
   ]
  },
  {
   "cell_type": "markdown",
   "metadata": {},
   "source": [
    "### i. Given an image, output which objects are present in the image"
   ]
  },
  {
   "cell_type": "markdown",
   "metadata": {},
   "source": [
    "Supervised learning: The model is trained on labeled images (with objects identified) and classifies objects in new images."
   ]
  },
  {
   "cell_type": "markdown",
   "metadata": {},
   "source": [
    "## Data Preprocessing Steps"
   ]
  },
  {
   "cell_type": "markdown",
   "metadata": {},
   "source": [
    "1. Apply following steps to dataset given in a url</br>\n",
    "link: https://drive.google.com/open?id=1NKMy-zIT3tfpNLnA7G0EmPxgZe0OPXp_</br>\n",
    "a. Handling missing data</br>\n",
    "b. Handling categorical data</br>\n",
    "c. Split the dataset into training set and test set</br>\n",
    "d. Feature scaling</br>"
   ]
  },
  {
   "cell_type": "code",
   "execution_count": 16,
   "metadata": {},
   "outputs": [],
   "source": [
    "import pandas as pd\n",
    "from sklearn.preprocessing import LabelEncoder\n",
    "from sklearn.model_selection import train_test_split\n",
    "from sklearn.preprocessing import MinMaxScaler, StandardScaler"
   ]
  },
  {
   "cell_type": "markdown",
   "metadata": {},
   "source": [
    "### Loading Data"
   ]
  },
  {
   "cell_type": "code",
   "execution_count": 6,
   "metadata": {},
   "outputs": [
    {
     "name": "stdout",
     "output_type": "stream",
     "text": [
      "   Country   Age   Salary Purchased\n",
      "0   France  44.0  72000.0        No\n",
      "1    Spain  27.0  48000.0       Yes\n",
      "2  Germany  30.0  54000.0        No\n",
      "3    Spain  38.0  61000.0        No\n",
      "4  Germany  40.0      NaN       Yes\n",
      "5   France  35.0  58000.0       Yes\n",
      "6    Spain   NaN  52000.0        No\n",
      "7   France  48.0  79000.0       Yes\n",
      "8  Germany  50.0  83000.0        No\n",
      "9   France  37.0  67000.0       Yes\n"
     ]
    }
   ],
   "source": [
    "#Loading the data\n",
    "df = pd.read_csv(\"C:/Users/naikn/OneDrive/Documents/python/Machine_learning/data_preprocessing.csv\")\n",
    "\n",
    "print(df)"
   ]
  },
  {
   "cell_type": "markdown",
   "metadata": {},
   "source": [
    "### Handling Data"
   ]
  },
  {
   "cell_type": "code",
   "execution_count": 8,
   "metadata": {},
   "outputs": [
    {
     "name": "stdout",
     "output_type": "stream",
     "text": [
      "   Country        Age        Salary Purchased\n",
      "0   France  44.000000  72000.000000        No\n",
      "1    Spain  27.000000  48000.000000       Yes\n",
      "2  Germany  30.000000  54000.000000        No\n",
      "3    Spain  38.000000  61000.000000        No\n",
      "4  Germany  40.000000  63777.777778       Yes\n",
      "5   France  35.000000  58000.000000       Yes\n",
      "6    Spain  38.777778  52000.000000        No\n",
      "7   France  48.000000  79000.000000       Yes\n",
      "8  Germany  50.000000  83000.000000        No\n",
      "9   France  37.000000  67000.000000       Yes\n"
     ]
    },
    {
     "name": "stderr",
     "output_type": "stream",
     "text": [
      "C:\\Users\\naikn\\AppData\\Local\\Temp\\ipykernel_30964\\2377667045.py:4: FutureWarning: A value is trying to be set on a copy of a DataFrame or Series through chained assignment using an inplace method.\n",
      "The behavior will change in pandas 3.0. This inplace method will never work because the intermediate object on which we are setting values always behaves as a copy.\n",
      "\n",
      "For example, when doing 'df[col].method(value, inplace=True)', try using 'df.method({col: value}, inplace=True)' or df[col] = df[col].method(value) instead, to perform the operation inplace on the original object.\n",
      "\n",
      "\n",
      "  df['Age'].fillna(df['Age'].mean(), inplace=True)\n",
      "C:\\Users\\naikn\\AppData\\Local\\Temp\\ipykernel_30964\\2377667045.py:5: FutureWarning: A value is trying to be set on a copy of a DataFrame or Series through chained assignment using an inplace method.\n",
      "The behavior will change in pandas 3.0. This inplace method will never work because the intermediate object on which we are setting values always behaves as a copy.\n",
      "\n",
      "For example, when doing 'df[col].method(value, inplace=True)', try using 'df.method({col: value}, inplace=True)' or df[col] = df[col].method(value) instead, to perform the operation inplace on the original object.\n",
      "\n",
      "\n",
      "  df['Salary'].fillna(df['Salary'].mean(), inplace=True)\n"
     ]
    }
   ],
   "source": [
    "#Handling missing data\n",
    "\n",
    "# Handling missing values in 'Age' and 'Salary' columns\n",
    "df['Age'].fillna(df['Age'].mean(), inplace=True)\n",
    "df['Salary'].fillna(df['Salary'].mean(), inplace=True)\n",
    "\n",
    "print(df)"
   ]
  },
  {
   "cell_type": "markdown",
   "metadata": {},
   "source": [
    "### Handling Categorical data"
   ]
  },
  {
   "cell_type": "code",
   "execution_count": 17,
   "metadata": {},
   "outputs": [],
   "source": [
    "#Handling Categorical data\n",
    "\n",
    "# Initialize the LabelEncoder\n",
    "label_encoder = LabelEncoder()\n",
    "\n",
    "# Apply the label encoder to the 'Purchased' and 'Country' column\n",
    "df['Purchased'] = label_encoder.fit_transform(df['Purchased'])\n",
    "df['Country'] = label_encoder.fit_transform(df['Country'])\n"
   ]
  },
  {
   "cell_type": "code",
   "execution_count": 18,
   "metadata": {},
   "outputs": [
    {
     "name": "stdout",
     "output_type": "stream",
     "text": [
      "   Country        Age        Salary  Purchased\n",
      "0        0  44.000000  72000.000000          0\n",
      "1        2  27.000000  48000.000000          1\n",
      "2        1  30.000000  54000.000000          0\n",
      "3        2  38.000000  61000.000000          0\n",
      "4        1  40.000000  63777.777778          1\n",
      "5        0  35.000000  58000.000000          1\n",
      "6        2  38.777778  52000.000000          0\n",
      "7        0  48.000000  79000.000000          1\n",
      "8        1  50.000000  83000.000000          0\n",
      "9        0  37.000000  67000.000000          1\n"
     ]
    }
   ],
   "source": [
    "print(df)"
   ]
  },
  {
   "cell_type": "markdown",
   "metadata": {},
   "source": [
    "### Spliting Data "
   ]
  },
  {
   "cell_type": "code",
   "execution_count": 19,
   "metadata": {},
   "outputs": [
    {
     "name": "stdout",
     "output_type": "stream",
     "text": [
      "(8, 3) (2, 3) (8,) (2,)\n"
     ]
    }
   ],
   "source": [
    "# Split the dataset into training set and test set\n",
    "X = df.drop('Purchased', axis=1)  # Features (all columns except 'Purchased')\n",
    "y = df['Purchased']  # Target variable (the 'Purchased' column)\n",
    "\n",
    "# Split the data\n",
    "X_train, X_test, y_train, y_test = train_test_split(X, y, test_size=0.2, random_state=42)\n",
    "\n",
    "# Output shapes\n",
    "print(X_train.shape, X_test.shape, y_train.shape, y_test.shape)"
   ]
  },
  {
   "cell_type": "markdown",
   "metadata": {},
   "source": [
    "### Scaling Data"
   ]
  },
  {
   "cell_type": "code",
   "execution_count": 20,
   "metadata": {},
   "outputs": [],
   "source": [
    "# Apply Feature Scaling to 'Age' and 'Salary'\n",
    "\n",
    "scaler = StandardScaler()\n",
    "\n",
    "# We fit the scaler on the training data and transform both training and test data\n",
    "X_train[['Age', 'Salary']] = scaler.fit_transform(X_train[['Age', 'Salary']])\n",
    "X_test[['Age', 'Salary']] = scaler.fit_transform(X_test[['Age', 'Salary']])"
   ]
  },
  {
   "cell_type": "code",
   "execution_count": 21,
   "metadata": {},
   "outputs": [
    {
     "name": "stdout",
     "output_type": "stream",
     "text": [
      "Scaled Training Data (X_train):\n",
      "   Country       Age    Salary\n",
      "5        0 -0.752943 -0.626038\n",
      "0        0  1.008454  1.013043\n",
      "7        0  1.791297  1.832583\n",
      "2        1 -1.731496 -1.094347\n",
      "9        0 -0.361521  0.427657\n",
      "4        1  0.225611  0.050408\n",
      "3        2 -0.165810 -0.274806\n",
      "6        2 -0.013591 -1.328501\n"
     ]
    }
   ],
   "source": [
    "\n",
    "# Display the scaled training and test sets\n",
    "print(\"Scaled Training Data (X_train):\")\n",
    "print(X_train)"
   ]
  },
  {
   "cell_type": "code",
   "execution_count": 22,
   "metadata": {},
   "outputs": [
    {
     "name": "stdout",
     "output_type": "stream",
     "text": [
      "\n",
      "Scaled Test Data (X_test):\n",
      "   Country       Age    Salary\n",
      "8        1  2.182718  2.300892\n",
      "1        2 -2.318628 -1.796810\n"
     ]
    }
   ],
   "source": [
    "print(\"\\nScaled Test Data (X_test):\")\n",
    "print(X_test)"
   ]
  }
 ],
 "metadata": {
  "kernelspec": {
   "display_name": "Python 3",
   "language": "python",
   "name": "python3"
  },
  "language_info": {
   "codemirror_mode": {
    "name": "ipython",
    "version": 3
   },
   "file_extension": ".py",
   "mimetype": "text/x-python",
   "name": "python",
   "nbconvert_exporter": "python",
   "pygments_lexer": "ipython3",
   "version": "3.12.4"
  }
 },
 "nbformat": 4,
 "nbformat_minor": 2
}
